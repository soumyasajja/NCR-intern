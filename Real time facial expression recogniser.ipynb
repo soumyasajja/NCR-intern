{
 "cells": [
  {
   "cell_type": "code",
   "execution_count": 1,
   "metadata": {},
   "outputs": [
    {
     "name": "stderr",
     "output_type": "stream",
     "text": [
      "Using TensorFlow backend.\n"
     ]
    }
   ],
   "source": [
    "import tensorflow as tf\n",
    "import keras \n",
    "from keras.models import Sequential\n",
    "from keras.layers import Dense,Flatten,Dropout\n",
    "from keras.layers.convolutional import Conv2D,MaxPooling2D\n",
    "from keras.preprocessing.image import ImageDataGenerator ,load_img\n",
    "from keras.layers.normalization import BatchNormalization"
   ]
  },
  {
   "cell_type": "code",
   "execution_count": 2,
   "metadata": {},
   "outputs": [],
   "source": [
    "import numpy as np\n",
    "import pandas as pd\n",
    "import matplotlib.pyplot as plt\n",
    "import random\n",
    "from sklearn.model_selection import train_test_split"
   ]
  },
  {
   "cell_type": "code",
   "execution_count": 3,
   "metadata": {},
   "outputs": [],
   "source": [
    "#Importing Data from CSV file\n",
    "data=pd.read_csv(\"fer2013.csv\")"
   ]
  },
  {
   "cell_type": "code",
   "execution_count": 4,
   "metadata": {},
   "outputs": [],
   "source": [
    "labels=data.iloc[:,[0]].values"
   ]
  },
  {
   "cell_type": "code",
   "execution_count": 5,
   "metadata": {},
   "outputs": [],
   "source": [
    "pixels=data['pixels']"
   ]
  },
  {
   "cell_type": "code",
   "execution_count": 6,
   "metadata": {},
   "outputs": [],
   "source": [
    "#Facial Expressions\n",
    "Expressions={0:\"Angry\",1:\"Disgust\",2:\"Fear\",3:\"Happy\",4:\"Sad\",5:\"Surprise\",6:\"Neutral\"}\n",
    "from keras.utils import to_categorical \n",
    "labels = to_categorical(labels,len(Expressions))"
   ]
  },
  {
   "cell_type": "code",
   "execution_count": 7,
   "metadata": {},
   "outputs": [],
   "source": [
    "#converting pixels to Gray Scale images of 48X48 \n",
    "images = np.array([np.fromstring(pixel, dtype=int, sep=\" \")for pixel in pixels])\n",
    "images=images/255.0\n",
    "images = images.reshape(images.shape[0],48,48,1).astype('float32')"
   ]
  },
  {
   "cell_type": "code",
   "execution_count": 8,
   "metadata": {},
   "outputs": [
    {
     "data": {
      "text/plain": [
       "'Disgust'"
      ]
     },
     "execution_count": 8,
     "metadata": {},
     "output_type": "execute_result"
    },
    {
     "data": {
      "image/png": "[encoded data removed]",
      "text/plain": [
       "<Figure size 432x288 with 1 Axes>"
      ]
     },
     "metadata": {
      "needs_background": "light"
     },
     "output_type": "display_data"
    }
   ],
   "source": [
    "plt.imshow(images[0][:,:,0])\n",
    "Expressions[labels[0][0]]"
   ]
  },
  {
   "cell_type": "code",
   "execution_count": 9,
   "metadata": {},
   "outputs": [],
   "source": [
    "#splitting data into training and test data\n",
    "train_images,test_images,train_labels,test_labels = train_test_split(images,labels,test_size=0.2,random_state=0)"
   ]
  },
  {
   "cell_type": "code",
   "execution_count": 10,
   "metadata": {},
   "outputs": [
    {
     "data": {
      "text/plain": [
       "array([[0., 0., 1., ..., 0., 0., 0.],\n",
       "       [0., 0., 0., ..., 1., 0., 0.],\n",
       "       [0., 0., 0., ..., 1., 0., 0.],\n",
       "       ...,\n",
       "       [0., 0., 0., ..., 0., 0., 0.],\n",
       "       [0., 0., 0., ..., 1., 0., 0.],\n",
       "       [0., 1., 0., ..., 0., 0., 0.]], dtype=float32)"
      ]
     },
     "execution_count": 10,
     "metadata": {},
     "output_type": "execute_result"
    }
   ],
   "source": [
    "train_labels"
   ]
  },
  {
   "cell_type": "code",
   "execution_count": 11,
   "metadata": {},
   "outputs": [],
   "source": [
    "def create_convolutional_model(classes):\n",
    "    model = Sequential()\n",
    "    model.add(Conv2D(32,kernel_size=(2,2),strides=(1,1),activation='relu',input_shape=(48,48,1)))\n",
    "    model.add(BatchNormalization())\n",
    "    model.add(MaxPooling2D(pool_size=(2,2),strides=(2,2)))\n",
    "    model.add(Dropout(0.25))\n",
    "    \n",
    "    model.add(Conv2D(filters=64,kernel_size=(2,2),strides=(1,1),activation='relu'))\n",
    "    model.add(BatchNormalization())\n",
    "    model.add(MaxPooling2D(pool_size=(2,2),strides=(1,1)))\n",
    "    model.add(Dropout(0.25))#to prevent neural network from overfitting\n",
    "    \n",
    "    model.add(Conv2D(filters=128,kernel_size=(2,2),strides=(1,1),activation='relu'))\n",
    "    model.add(BatchNormalization())\n",
    "    model.add(MaxPooling2D(pool_size=(2,2),strides=(1,1)))\n",
    "    model.add(Dropout(0.25))\n",
    "    \n",
    "    model.add(Conv2D(filters=256,kernel_size=(2,2),strides=(1,1),activation='relu'))\n",
    "    model.add(BatchNormalization())\n",
    "    model.add(MaxPooling2D(pool_size=(2,2),strides=(1,1)))\n",
    "    model.add(Dropout(0.25))\n",
    "    \n",
    "    model.add(Flatten())\n",
    "    \n",
    "    model.add(Dense(256,activation='relu'))\n",
    "    model.add(BatchNormalization())\n",
    "    model.add(Dropout(0.25))\n",
    "    \n",
    "    model.add(Dense(512,activation='relu'))\n",
    "    model.add(BatchNormalization())\n",
    "    model.add(Dropout(0.25))\n",
    "    \n",
    "    model.add(Dense(classes,activation='softmax'))\n",
    "    \n",
    "    \n",
    "    model.compile(optimizer='adam', loss='categorical_crossentropy', metrics=['accuracy'])\n",
    "    \n",
    "    return model "
   ]
  },
  {
   "cell_type": "code",
   "execution_count": 12,
   "metadata": {},
   "outputs": [
    {
     "name": "stdout",
     "output_type": "stream",
     "text": [
      "WARNING:tensorflow:From C:\\Users\\Guna\\Anaconda3\\lib\\site-packages\\tensorflow\\python\\framework\\op_def_library.py:263: colocate_with (from tensorflow.python.framework.ops) is deprecated and will be removed in a future version.\n",
      "Instructions for updating:\n",
      "Colocations handled automatically by placer.\n",
      "WARNING:tensorflow:From C:\\Users\\Guna\\Anaconda3\\lib\\site-packages\\keras\\backend\\tensorflow_backend.py:3445: calling dropout (from tensorflow.python.ops.nn_ops) with keep_prob is deprecated and will be removed in a future version.\n",
      "Instructions for updating:\n",
      "Please use `rate` instead of `keep_prob`. Rate should be set to `rate = 1 - keep_prob`.\n",
      "_________________________________________________________________\n",
      "Layer (type)                 Output Shape              Param #   \n",
      "=================================================================\n",
      "conv2d_1 (Conv2D)            (None, 47, 47, 32)        160       \n",
      "_________________________________________________________________\n",
      "batch_normalization_1 (Batch (None, 47, 47, 32)        128       \n",
      "_________________________________________________________________\n",
      "max_pooling2d_1 (MaxPooling2 (None, 23, 23, 32)        0         \n",
      "_________________________________________________________________\n",
      "dropout_1 (Dropout)          (None, 23, 23, 32)        0         \n",
      "_________________________________________________________________\n",
      "conv2d_2 (Conv2D)            (None, 22, 22, 64)        8256      \n",
      "_________________________________________________________________\n",
      "batch_normalization_2 (Batch (None, 22, 22, 64)        256       \n",
      "_________________________________________________________________\n",
      "max_pooling2d_2 (MaxPooling2 (None, 21, 21, 64)        0         \n",
      "_________________________________________________________________\n",
      "dropout_2 (Dropout)          (None, 21, 21, 64)        0         \n",
      "_________________________________________________________________\n",
      "conv2d_3 (Conv2D)            (None, 20, 20, 128)       32896     \n",
      "_________________________________________________________________\n",
      "batch_normalization_3 (Batch (None, 20, 20, 128)       512       \n",
      "_________________________________________________________________\n",
      "max_pooling2d_3 (MaxPooling2 (None, 19, 19, 128)       0         \n",
      "_________________________________________________________________\n",
      "dropout_3 (Dropout)          (None, 19, 19, 128)       0         \n",
      "_________________________________________________________________\n",
      "conv2d_4 (Conv2D)            (None, 18, 18, 256)       131328    \n",
      "_________________________________________________________________\n",
      "batch_normalization_4 (Batch (None, 18, 18, 256)       1024      \n",
      "_________________________________________________________________\n",
      "max_pooling2d_4 (MaxPooling2 (None, 17, 17, 256)       0         \n",
      "_________________________________________________________________\n",
      "dropout_4 (Dropout)          (None, 17, 17, 256)       0         \n",
      "_________________________________________________________________\n",
      "flatten_1 (Flatten)          (None, 73984)             0         \n",
      "_________________________________________________________________\n",
      "dense_1 (Dense)              (None, 256)               18940160  \n",
      "_________________________________________________________________\n",
      "batch_normalization_5 (Batch (None, 256)               1024      \n",
      "_________________________________________________________________\n",
      "dropout_5 (Dropout)          (None, 256)               0         \n",
      "_________________________________________________________________\n",
      "dense_2 (Dense)              (None, 512)               131584    \n",
      "_________________________________________________________________\n",
      "batch_normalization_6 (Batch (None, 512)               2048      \n",
      "_________________________________________________________________\n",
      "dropout_6 (Dropout)          (None, 512)               0         \n",
      "_________________________________________________________________\n",
      "dense_3 (Dense)              (None, 7)                 3591      \n",
      "=================================================================\n",
      "Total params: 19,252,967\n",
      "Trainable params: 19,250,471\n",
      "Non-trainable params: 2,496\n",
      "_________________________________________________________________\n"
     ]
    }
   ],
   "source": [
    "classes=7\n",
    "model = create_convolutional_model(classes)\n",
    "model.summary()"
   ]
  },
  {
   "cell_type": "code",
   "execution_count": 13,
   "metadata": {},
   "outputs": [
    {
     "name": "stdout",
     "output_type": "stream",
     "text": [
      "WARNING:tensorflow:From C:\\Users\\Guna\\Anaconda3\\lib\\site-packages\\tensorflow\\python\\ops\\math_ops.py:3066: to_int32 (from tensorflow.python.ops.math_ops) is deprecated and will be removed in a future version.\n",
      "Instructions for updating:\n",
      "Use tf.cast instead.\n",
      "Epoch 1/30\n",
      " - 2007s - loss: 1.9103 - acc: 0.3086\n",
      "Epoch 2/30\n",
      " - 1859s - loss: 1.5424 - acc: 0.4203\n",
      "Epoch 3/30\n",
      " - 1949s - loss: 1.3360 - acc: 0.4894\n",
      "Epoch 4/30\n",
      " - 2007s - loss: 1.2421 - acc: 0.5252\n",
      "Epoch 5/30\n",
      " - 1884s - loss: 1.1533 - acc: 0.5624\n",
      "Epoch 6/30\n",
      " - 1859s - loss: 1.0978 - acc: 0.5878\n",
      "Epoch 7/30\n",
      " - 13777s - loss: 1.0270 - acc: 0.6140\n",
      "Epoch 8/30\n",
      " - 1928s - loss: 0.9540 - acc: 0.6417\n",
      "Epoch 9/30\n",
      " - 2115s - loss: 0.9262 - acc: 0.6539\n",
      "Epoch 10/30\n",
      " - 3971s - loss: 0.8037 - acc: 0.7012\n",
      "Epoch 11/30\n",
      " - 2129s - loss: 0.7101 - acc: 0.7387\n",
      "Epoch 12/30\n",
      " - 1963s - loss: 0.6318 - acc: 0.7669\n",
      "Epoch 13/30\n",
      " - 2613s - loss: 0.5315 - acc: 0.8048\n",
      "Epoch 14/30\n",
      " - 2548s - loss: 0.4689 - acc: 0.8301\n",
      "Epoch 15/30\n",
      " - 32962s - loss: 0.4050 - acc: 0.8543\n",
      "Epoch 16/30\n",
      " - 1956s - loss: 0.3787 - acc: 0.8635\n",
      "Epoch 17/30\n",
      " - 1843s - loss: 0.3143 - acc: 0.8877\n",
      "Epoch 18/30\n",
      " - 1891s - loss: 0.2832 - acc: 0.8992\n",
      "Epoch 19/30\n",
      " - 1851s - loss: 0.2513 - acc: 0.9114\n",
      "Epoch 20/30\n",
      " - 1907s - loss: 0.2333 - acc: 0.9177\n",
      "Epoch 21/30\n",
      " - 1969s - loss: 0.2113 - acc: 0.9262\n",
      "Epoch 22/30\n",
      " - 1948s - loss: 0.1915 - acc: 0.9329\n",
      "Epoch 23/30\n",
      " - 1913s - loss: 0.1917 - acc: 0.9325\n",
      "Epoch 24/30\n",
      " - 4902s - loss: 0.1757 - acc: 0.9390\n",
      "Epoch 25/30\n",
      " - 2192s - loss: 0.1705 - acc: 0.9400\n",
      "Epoch 26/30\n",
      " - 9356s - loss: 0.1578 - acc: 0.9455\n",
      "Epoch 27/30\n",
      " - 2159s - loss: 0.1500 - acc: 0.9475\n",
      "Epoch 28/30\n",
      " - 2053s - loss: 0.1570 - acc: 0.9448\n",
      "Epoch 29/30\n",
      " - 1982s - loss: 0.1385 - acc: 0.9524\n",
      "Epoch 30/30\n",
      " - 2064s - loss: 0.1310 - acc: 0.9552\n"
     ]
    },
    {
     "data": {
      "text/plain": [
       "<keras.callbacks.History at 0x1e01f6d25c0>"
      ]
     },
     "execution_count": 13,
     "metadata": {},
     "output_type": "execute_result"
    }
   ],
   "source": [
    "#train the CNN \n",
    "model.fit(train_images,train_labels,batch_size=105,epochs=30,verbose=2)"
   ]
  },
  {
   "cell_type": "code",
   "execution_count": 14,
   "metadata": {},
   "outputs": [],
   "source": [
    "label_pred=model.predict(test_images)\n",
    "label_pred=np.argmax(label_pred,axis = 1)"
   ]
  },
  {
   "cell_type": "code",
   "execution_count": 15,
   "metadata": {},
   "outputs": [
    {
     "name": "stdout",
     "output_type": "stream",
     "text": [
      "Normalized confusion matrix\n",
      "[[4.38085328e-01 8.32466181e-03 9.36524454e-02 1.10301769e-01\n",
      "  1.93548387e-01 1.35275754e-02 1.42559834e-01]\n",
      " [1.32075472e-01 5.00000000e-01 9.43396226e-02 4.71698113e-02\n",
      "  1.41509434e-01 9.43396226e-03 7.54716981e-02]\n",
      " [8.25049702e-02 2.98210736e-03 4.07554672e-01 8.34990060e-02\n",
      "  2.22664016e-01 7.45526839e-02 1.26242545e-01]\n",
      " [1.74197060e-02 0.00000000e+00 1.79640719e-02 8.55743059e-01\n",
      "  4.35492651e-02 1.03429505e-02 5.49809472e-02]\n",
      " [7.77160983e-02 2.37906423e-03 9.91276764e-02 9.51625694e-02\n",
      "  5.24980174e-01 9.51625694e-03 1.91118160e-01]\n",
      " [3.00375469e-02 1.25156446e-03 7.38423029e-02 7.75969962e-02\n",
      "  2.62828536e-02 7.38423029e-01 5.25657071e-02]\n",
      " [5.46357616e-02 8.27814570e-04 5.71192053e-02 1.11754967e-01\n",
      "  1.64735099e-01 9.93377483e-03 6.00993377e-01]]\n"
     ]
    },
    {
     "data": {
      "image/png": "[encoded data removed]",
      "text/plain": [
       "<Figure size 432x288 with 2 Axes>"
      ]
     },
     "metadata": {
      "needs_background": "light"
     },
     "output_type": "display_data"
    }
   ],
   "source": [
    "#making confusion matrix\n",
    "import itertools\n",
    "from sklearn.metrics import confusion_matrix\n",
    "\n",
    "def plot_confusion_matrix(cm, classes,\n",
    "                          normalize=False,\n",
    "                          title='Confusion matrix',\n",
    "                          cmap=plt.cm.Blues):\n",
    "    \"\"\"\n",
    "    This function prints and plots the confusion matrix.\n",
    "    Normalization can be applied by setting `normalize=True`.\n",
    "    \"\"\"\n",
    "    if normalize:\n",
    "        cm = cm.astype('float') / cm.sum(axis=1)[:, np.newaxis]\n",
    "        print(\"Normalized confusion matrix\")\n",
    "    else:\n",
    "        print('Confusion matrix, without normalization')\n",
    "\n",
    "    print(cm)\n",
    "\n",
    "    plt.imshow(cm, interpolation='nearest', cmap=cmap)\n",
    "    plt.title(title)\n",
    "    plt.colorbar()\n",
    "    tick_marks = np.arange(len(classes))\n",
    "    plt.xticks(tick_marks, classes, rotation=45)\n",
    "    plt.yticks(tick_marks, classes)\n",
    "\n",
    "    fmt = '.2f' if normalize else 'd'\n",
    "    thresh = cm.max() / 2.\n",
    "    for i, j in itertools.product(range(cm.shape[0]), range(cm.shape[1])):\n",
    "        plt.text(j, i, format(cm[i, j], fmt),\n",
    "                 horizontalalignment=\"center\",\n",
    "                 color=\"white\" if cm[i, j] > thresh else \"black\")\n",
    "\n",
    "    plt.ylabel('True label')\n",
    "    plt.xlabel('Predicted label')\n",
    "    plt.tight_layout()\n",
    "\n",
    "test_labels=np.argmax(test_labels,axis=1)\n",
    "# Compute confusion matrix\n",
    "cnf_matrix = confusion_matrix(test_labels,label_pred)\n",
    "class_names=Expressions\n",
    "# Plot normalized confusion matrix\n",
    "plt.figure()\n",
    "plot_confusion_matrix(cnf_matrix, classes=class_names, normalize=True,\n",
    "                      title='Normalized confusion matrix')\n",
    "\n",
    "plt.show()"
   ]
  },
  {
   "cell_type": "code",
   "execution_count": 16,
   "metadata": {},
   "outputs": [],
   "source": [
    "#Save the weights\n",
    "filename='model_weights.hdf5'\n",
    "model.save_weights(filename,overwrite=True)"
   ]
  },
  {
   "cell_type": "code",
   "execution_count": 17,
   "metadata": {},
   "outputs": [],
   "source": [
    "#Save the weights\n",
    "filename='model_weights.hdf5'\n",
    "model.load_weights(filename)"
   ]
  },
  {
   "cell_type": "code",
   "execution_count": 18,
   "metadata": {},
   "outputs": [],
   "source": [
    "import cv2\n",
    "def make_prediction(unknown):\n",
    "    unknown=cv2.resize(unknown,(48,48))\n",
    "    unknown=unknown/255.0\n",
    "    unknown=np.array(unknown).reshape(-1,48,48,1)\n",
    "    predict=np.argmax(model.predict(unknown),axis = 1)\n",
    "    return predict[0]  "
   ]
  },
  {
   "cell_type": "code",
   "execution_count": 19,
   "metadata": {},
   "outputs": [],
   "source": [
    "def face_in_video():\n",
    "    face_cascade = cv2.CascadeClassifier(\"cascades\\data\\haarcascade_frontalface_default.xml\")\n",
    "    cap=cv2.VideoCapture(0)\n",
    "    while True:\n",
    "        ret,img=cap.read()  \n",
    "        gray = cv2.cvtColor(img,cv2.COLOR_BGR2GRAY)\n",
    "        faces = face_cascade.detectMultiScale(gray,1.3,5)\n",
    "        \n",
    "        for (x,y,w,h) in faces:\n",
    "            sub_face = gray[y:y+h, x:x+w]\n",
    "            cv2.rectangle(img,(x,y),(x+w,y+h),(255,0,0),2)\n",
    "            res=make_prediction(sub_face)\n",
    "            font = cv2.FONT_HERSHEY_SIMPLEX\n",
    "            cv2.putText(img,str(Expressions[res]),(x,y-5),font,0.5,(205,200,50),1,cv2.LINE_AA)\n",
    "        cv2.imshow('img',img)\n",
    "        if cv2.waitKey(1) & 0xFF ==ord('q'):\n",
    "            break\n",
    "    cap.release()\n",
    "    cv2.destroyAllWindows()  "
   ]
  },
  {
   "cell_type": "code",
   "execution_count": 24,
   "metadata": {},
   "outputs": [],
   "source": [
    "face_in_video()"
   ]
  },
  {
   "cell_type": "code",
   "execution_count": null,
   "metadata": {},
   "outputs": [],
   "source": []
  }
 ],
 "metadata": {
  "kernelspec": {
   "display_name": "Python 3",
   "language": "python",
   "name": "python3"
  },
  "language_info": {
   "codemirror_mode": {
    "name": "ipython",
    "version": 3
   },
   "file_extension": ".py",
   "mimetype": "text/x-python",
   "name": "python",
   "nbconvert_exporter": "python",
   "pygments_lexer": "ipython3",
   "version": "3.7.3"
  }
 },
 "nbformat": 4,
 "nbformat_minor": 2
}
